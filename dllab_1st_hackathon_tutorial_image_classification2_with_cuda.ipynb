{
  "nbformat": 4,
  "nbformat_minor": 0,
  "metadata": {
    "colab": {
      "name": "dllab-1st-hackathon-tutorial-image-classification2-with-cuda",
      "version": "0.3.2",
      "provenance": [],
      "include_colab_link": true
    },
    "kernelspec": {
      "name": "python3",
      "display_name": "Python 3"
    },
    "accelerator": "GPU"
  },
  "cells": [
    {
      "cell_type": "markdown",
      "metadata": {
        "id": "view-in-github",
        "colab_type": "text"
      },
      "source": [
        "[View in Colaboratory](https://colab.research.google.com/github/mogamin/dlllab-hackathon/blob/master/dllab_1st_hackathon_tutorial_image_classification2_with_cuda.ipynb)"
      ]
    },
    {
      "metadata": {
        "id": "fKWJQAkQcbqq",
        "colab_type": "code",
        "colab": {
          "base_uri": "https://localhost:8080/",
          "height": 224
        },
        "outputId": "3543a082-bf39-48b6-fd81-fd732795b2cd"
      },
      "cell_type": "code",
      "source": [
        "!apt-get install -y -qq libcusparse8.0 libnvrtc8.0 libnvtoolsext1\n",
        "!ln -snf /usr/lib/x86_64-linux-gnu/libnvrtc-builtins.so.8.0 /usr/lib/x86_64-linux-gnu/libnvrtc-builtins.so\n",
        "!pip install cupy-cuda80==4.0.0b4 \n",
        "!pip install chainer==4.0.0b4\n",
        "\n",
        "import chainer\n",
        "\n",
        "print('GPU availability:', chainer.cuda.available)\n",
        "print('cuDNN availablility:', chainer.cuda.cudnn_enabled)"
      ],
      "execution_count": 24,
      "outputs": [
        {
          "output_type": "stream",
          "text": [
            "Requirement already satisfied: cupy-cuda80==4.0.0b4 in /usr/local/lib/python3.6/dist-packages (4.0.0b4)\r\n",
            "Requirement already satisfied: six>=1.9.0 in /usr/local/lib/python3.6/dist-packages (from cupy-cuda80==4.0.0b4) (1.11.0)\r\n",
            "Requirement already satisfied: numpy>=1.9.0 in /usr/local/lib/python3.6/dist-packages (from cupy-cuda80==4.0.0b4) (1.14.5)\r\n",
            "Requirement already satisfied: fastrlock>=0.3 in /usr/local/lib/python3.6/dist-packages (from cupy-cuda80==4.0.0b4) (0.3)\n",
            "Requirement already satisfied: chainer==4.0.0b4 in /usr/local/lib/python3.6/dist-packages (4.0.0b4)\n",
            "Requirement already satisfied: protobuf>=3.0.0 in /usr/local/lib/python3.6/dist-packages (from chainer==4.0.0b4) (3.6.0)\n",
            "Requirement already satisfied: numpy>=1.9.0 in /usr/local/lib/python3.6/dist-packages (from chainer==4.0.0b4) (1.14.5)\n",
            "Requirement already satisfied: six>=1.9.0 in /usr/local/lib/python3.6/dist-packages (from chainer==4.0.0b4) (1.11.0)\n",
            "Requirement already satisfied: filelock in /usr/local/lib/python3.6/dist-packages (from chainer==4.0.0b4) (3.0.4)\n",
            "Requirement already satisfied: setuptools in /usr/local/lib/python3.6/dist-packages (from protobuf>=3.0.0->chainer==4.0.0b4) (39.1.0)\n",
            "GPU availability: True\n",
            "cuDNN availablility: True\n"
          ],
          "name": "stdout"
        }
      ]
    },
    {
      "metadata": {
        "id": "iHh6Me6LdCcN",
        "colab_type": "code",
        "colab": {}
      },
      "cell_type": "code",
      "source": [
        "%matplotlib inline\n",
        "import numpy as np\n",
        "import pandas as pd\n",
        "import matplotlib.pyplot as plt\n",
        "\n",
        "import chainer\n",
        "import chainer.links as L\n",
        "import chainer.functions as F"
      ],
      "execution_count": 0,
      "outputs": []
    },
    {
      "metadata": {
        "id": "IIi2_uKUdQJK",
        "colab_type": "code",
        "colab": {}
      },
      "cell_type": "code",
      "source": [
        "from chainer.datasets import get_cifar10\n",
        "train, test = get_cifar10()"
      ],
      "execution_count": 0,
      "outputs": []
    },
    {
      "metadata": {
        "id": "x2T6wEqgeybx",
        "colab_type": "code",
        "colab": {
          "base_uri": "https://localhost:8080/",
          "height": 155
        },
        "outputId": "5004e54b-6f1b-49ce-9a5d-83e43a210ee6"
      },
      "cell_type": "code",
      "source": [
        "print(len(train))\n",
        "print(len(test))\n",
        "\n",
        "print(len(train[0]))\n",
        "print(type(train[0][0]))\n",
        "print(train[0][0].shape)\n",
        "\n",
        "\n",
        "print(type(train[0][1]))\n",
        "print(train[0][1].shape)\n",
        "train[0][1]\n"
      ],
      "execution_count": 27,
      "outputs": [
        {
          "output_type": "stream",
          "text": [
            "50000\n",
            "10000\n",
            "2\n",
            "<class 'numpy.ndarray'>\n",
            "(3, 32, 32)\n",
            "<class 'numpy.int32'>\n",
            "()\n"
          ],
          "name": "stdout"
        },
        {
          "output_type": "execute_result",
          "data": {
            "text/plain": [
              "6"
            ]
          },
          "metadata": {
            "tags": []
          },
          "execution_count": 27
        }
      ]
    },
    {
      "metadata": {
        "id": "UDx-NGXzgSL8",
        "colab_type": "code",
        "colab": {
          "base_uri": "https://localhost:8080/",
          "height": 283
        },
        "outputId": "223a37f7-fe79-4661-84b3-cb5de08f4fdf"
      },
      "cell_type": "code",
      "source": [
        "img = np.transpose(train[0][0], (1,2,0))\n",
        "plt.imshow(img)"
      ],
      "execution_count": 28,
      "outputs": [
        {
          "output_type": "execute_result",
          "data": {
            "text/plain": [
              "<matplotlib.image.AxesImage at 0x7f6d2a957588>"
            ]
          },
          "metadata": {
            "tags": []
          },
          "execution_count": 28
        },
        {
          "output_type": "display_data",
          "data": {
            "image/png": "[encoded data removed]",
            "text/plain": [
              "<matplotlib.figure.Figure at 0x7f6d2a99f518>"
            ]
          },
          "metadata": {
            "tags": []
          }
        }
      ]
    },
    {
      "metadata": {
        "id": "L1K8j7mPnuQW",
        "colab_type": "code",
        "colab": {
          "base_uri": "https://localhost:8080/",
          "height": 86
        },
        "outputId": "3a033e34-aa3f-4eb9-9bb6-824137f20924"
      },
      "cell_type": "code",
      "source": [
        "print(type(train[0][1]))\n",
        "print(train[0][1].shape)\n",
        "print(train[0][1].dtype)\n",
        "train[0][1]"
      ],
      "execution_count": 29,
      "outputs": [
        {
          "output_type": "stream",
          "text": [
            "<class 'numpy.int32'>\n",
            "()\n",
            "int32\n"
          ],
          "name": "stdout"
        },
        {
          "output_type": "execute_result",
          "data": {
            "text/plain": [
              "6"
            ]
          },
          "metadata": {
            "tags": []
          },
          "execution_count": 29
        }
      ]
    },
    {
      "metadata": {
        "id": "NrVuIfyGoIHc",
        "colab_type": "code",
        "colab": {}
      },
      "cell_type": "code",
      "source": [
        "class Block(chainer.Chain):\n",
        "  \n",
        "  def __init__(self, out_channels, ksize, pad=1):\n",
        "    super(Block, self).__init__()\n",
        "    with self.init_scope():\n",
        "      self.conv = L.Convolution2D(None, out_channels, ksize, pad=pad, nobias=True)\n",
        "      self.bn = L.BatchNormalization(out_channels)\n",
        "      \n",
        "  def __call__(self, x):\n",
        "    h = self.conv(x)\n",
        "    h = self.bn(h)\n",
        "    h = F.relu(h)\n",
        "    return h\n",
        "  "
      ],
      "execution_count": 0,
      "outputs": []
    },
    {
      "metadata": {
        "id": "2FfJiqKlpg1k",
        "colab_type": "code",
        "colab": {}
      },
      "cell_type": "code",
      "source": [
        "class VGG(chainer.Chain):\n",
        "  \n",
        "  def __init__(self, class_labels=10):\n",
        "    super(VGG, self).__init__()\n",
        "    with self.init_scope():\n",
        "      self.block1_1 = Block(64,3)\n",
        "      self.block1_2 = Block(64,3)\n",
        "\n",
        "      self.block2_1 = Block(128,3)\n",
        "      self.block2_2 = Block(128,3)\n",
        "\n",
        "      self.block3_1 = Block(256,3)\n",
        "      self.block3_2 = Block(256,3)\n",
        "      self.block3_3 = Block(256,3)\n",
        "      \n",
        "      self.block4_1 = Block(512,3)\n",
        "      self.block4_2 = Block(512,3)\n",
        "      self.block4_3 = Block(512,3)\n",
        "      \n",
        "      self.block5_1 = Block(512,3)\n",
        "      self.block5_2 = Block(512,3)\n",
        "      self.block5_3 = Block(512,3)\n",
        "      \n",
        "      self.fc1 = L.Linear(None, 512, nobias=True)\n",
        "      self.bn_fc1 = L.BatchNormalization(512)\n",
        "      self.fc2 = L.Linear(None, class_labels, nobias=True)\n",
        "      \n",
        "  def __call__(self, x):\n",
        "    \n",
        "    # 64 bit channel blocks:\n",
        "    h = self.block1_1(x)\n",
        "    h = F.dropout(h, ratio=0.3)\n",
        "    h = self.block1_2(h)\n",
        "    h = F.max_pooling_2d(h, ksize=2, stride=2)\n",
        "    \n",
        "    # 128 bit channel blocks:\n",
        "    h = self.block2_1(h)\n",
        "    h = F.dropout(h, ratio=0.4)\n",
        "    h = self.block2_2(h)\n",
        "    h = F.max_pooling_2d(h, ksize=2, stride=2)\n",
        "    \n",
        "    # 256 bit channel blocks:\n",
        "    h = self.block3_1(h)\n",
        "    h = F.dropout(h, ratio=0.4)\n",
        "    h = self.block3_2(h)\n",
        "    h = F.dropout(h, ratio=0.4)\n",
        "    h = self.block3_3(h)\n",
        "    h = F.max_pooling_2d(h, ksize=2, stride=2)\n",
        "    \n",
        "    # 512 bit channel blocks:\n",
        "    h = self.block4_1(h)\n",
        "    h = F.dropout(h, ratio=0.4)\n",
        "    h = self.block4_2(h)\n",
        "    h = F.dropout(h, ratio=0.4)\n",
        "    h = self.block4_3(h)\n",
        "    h = F.max_pooling_2d(h, ksize=2, stride=2)\n",
        "    \n",
        "    # 512 bit channel blocks:\n",
        "    h = self.block5_1(h)\n",
        "    h = F.dropout(h, ratio=0.4)\n",
        "    h = self.block5_2(h)\n",
        "    h = F.dropout(h, ratio=0.4)\n",
        "    h = self.block5_3(h)\n",
        "    h = F.max_pooling_2d(h, ksize=2, stride=2)\n",
        "    \n",
        "    h = F.dropout(h, ratio=0.5)\n",
        "    h = self.fc1(h)\n",
        "    h = self.bn_fc1(h)\n",
        "    h = F.relu(h)\n",
        "    h = F.dropout(h, ratio=0.5)\n",
        "    return self.fc2(h)     \n",
        "      "
      ],
      "execution_count": 0,
      "outputs": []
    },
    {
      "metadata": {
        "id": "7PvyqXpXrTdJ",
        "colab_type": "code",
        "colab": {}
      },
      "cell_type": "code",
      "source": [
        "import random\n",
        "def reset_seed(seed=0):\n",
        "  random.seed(seed)\n",
        "  np.random.seed(seed)\n",
        "  if chainer.cuda.available:\n",
        "    chainer.cuda.cupy.random.seed(seed)\n"
      ],
      "execution_count": 0,
      "outputs": []
    },
    {
      "metadata": {
        "id": "viaosTP8rexK",
        "colab_type": "code",
        "colab": {
          "base_uri": "https://localhost:8080/",
          "height": 34
        },
        "outputId": "9df27b5b-be99-43ce-cc64-cf3e5108cf20"
      },
      "cell_type": "code",
      "source": [
        "reset_seed(0)\n",
        "\n",
        "model = L.Classifier(VGG())\n",
        "optimizer = chainer.optimizers.MomentumSGD(0.05)\n",
        "optimizer.setup(model)\n",
        "#optimizer.add_hook(chainer.optimizer_hooks.WeightDecay(5e-4))\n"
      ],
      "execution_count": 33,
      "outputs": [
        {
          "output_type": "execute_result",
          "data": {
            "text/plain": [
              "<chainer.optimizers.momentum_sgd.MomentumSGD at 0x7f6d2a99ff28>"
            ]
          },
          "metadata": {
            "tags": []
          },
          "execution_count": 33
        }
      ]
    },
    {
      "metadata": {
        "id": "vbcpEeReqgs2",
        "colab_type": "code",
        "colab": {
          "base_uri": "https://localhost:8080/",
          "height": 895
        },
        "outputId": "ec053715-7196-4319-b2b6-6e4d1d9a1bc4"
      },
      "cell_type": "code",
      "source": [
        "epoch = 50\n",
        "batchsize = 512\n",
        "\n",
        "from chainer import training\n",
        "from chainer.training import extensions\n",
        "\n",
        "# Iterator\n",
        "train_iter = chainer.iterators.SerialIterator(train, batchsize)\n",
        "test_iter = chainer.iterators.SerialIterator(test, batchsize, repeat=False ,shuffle=False)\n",
        "\n",
        "# set up trainer\n",
        "updater = training.StandardUpdater(train_iter, optimizer, device=0)\n",
        "trainer = training.Trainer(updater, (epoch, 'epoch'), out='result/cifar10')\n",
        "\n",
        "trainer.extend(extensions.ExponentialShift('lr',0.5), trigger=(25,'epoch'))\n",
        "\n",
        "trainer.extend(extensions.Evaluator(test_iter, model, device=0))\n",
        "trainer.extend(extensions.dump_graph('main/loss'))\n",
        "trainer.extend(extensions.snapshot(), trigger=(epoch,'epoch'))\n",
        "\n",
        "trainer.extend(extensions.LogReport())\n",
        "trainer.extend(extensions.PrintReport(['epoch','elapsed_time','lr','main/loss','validation/main/loss','main/accuracy','validation/main/accuracy']))\n",
        "trainer.extend(extensions.ProgressBar())\n",
        "trainer.run()\n",
        "\n"
      ],
      "execution_count": 0,
      "outputs": [
        {
          "output_type": "stream",
          "text": [
            "epoch       elapsed_time  lr          main/loss   validation/main/loss  main/accuracy  validation/main/accuracy\n",
            "\u001b[J1           186.11                    2.21344     2.70351               0.174944       0.11489                   \n",
            "\u001b[J     total [#.................................................]  2.05%\n",
            "this epoch [#.................................................]  2.40%\n",
            "       100 iter, 1 epoch / 50 epochs\n",
            "       inf iters/sec. Estimated time to finish: 0:00:00.\n",
            "\u001b[4A\u001b[J2           372.112                   1.88277     3.60802               0.25849        0.106778                  \n",
            "\u001b[J     total [##................................................]  4.10%\n",
            "this epoch [##................................................]  4.80%\n",
            "       200 iter, 2 epoch / 50 epochs\n",
            "   0.53735 iters/sec. Estimated time to finish: 2:25:14.654818.\n",
            "\u001b[4A\u001b[J3           556.366                   1.66266     3.38645               0.344052       0.159898                  \n",
            "\u001b[J     total [###...............................................]  6.14%\n",
            "this epoch [###...............................................]  7.20%\n",
            "       300 iter, 3 epoch / 50 epochs\n",
            "   0.53272 iters/sec. Estimated time to finish: 2:23:22.588260.\n",
            "\u001b[4A\u001b[J4           742.373                   1.45114     3.35792               0.44591        0.181244                  \n",
            "\u001b[J     total [####..............................................]  8.19%\n",
            "this epoch [####..............................................]  9.60%\n",
            "       400 iter, 4 epoch / 50 epochs\n",
            "   0.53085 iters/sec. Estimated time to finish: 2:20:44.669323.\n",
            "\u001b[4A\u001b[J5           928.443                   1.29752     2.41058               0.520149       0.324362                  \n",
            "\u001b[J     total [#####.............................................] 10.24%\n",
            "this epoch [######............................................] 12.00%\n",
            "       500 iter, 5 epoch / 50 epochs\n",
            "   0.52987 iters/sec. Estimated time to finish: 2:17:51.473793.\n",
            "\u001b[4A\u001b[J6           1112.59                   1.13796     2.07889               0.588595       0.37118                   \n",
            "\u001b[J     total [######............................................] 12.29%\n",
            "this epoch [#######...........................................] 14.40%\n",
            "       600 iter, 6 epoch / 50 epochs\n",
            "   0.52932 iters/sec. Estimated time to finish: 2:14:51.105871.\n",
            "\u001b[4A\u001b[J7           1298.63                   0.985974    2.68345               0.652164       0.338574                  \n",
            "\u001b[J     total [#######...........................................] 14.34%\n",
            "this epoch [########..........................................] 16.80%\n",
            "       700 iter, 7 epoch / 50 epochs\n",
            "   0.52893 iters/sec. Estimated time to finish: 2:11:47.994206.\n",
            "\u001b[4A\u001b[J8           1484.71                   0.877831    2.16276               0.694595       0.464901                  \n",
            "\u001b[J     total [########..........................................] 16.38%\n",
            "this epoch [#########.........................................] 19.20%\n",
            "       800 iter, 8 epoch / 50 epochs\n",
            "   0.52866 iters/sec. Estimated time to finish: 2:08:42.965907.\n",
            "\u001b[4A\u001b[J9           1668.95                   0.797763    1.50313               0.72326        0.570376                  \n",
            "\u001b[J     total [#########.........................................] 18.43%\n",
            "this epoch [##########........................................] 21.60%\n",
            "       900 iter, 9 epoch / 50 epochs\n",
            "   0.52844 iters/sec. Estimated time to finish: 2:05:36.951440.\n",
            "\u001b[4A\u001b[J10          1855.01                   0.738223    1.64284               0.747011       0.546921                  \n",
            "\u001b[J     total [##########........................................] 20.48%\n",
            "this epoch [############......................................] 24.00%\n",
            "      1000 iter, 10 epoch / 50 epochs\n",
            "   0.52828 iters/sec. Estimated time to finish: 2:02:29.968949.\n",
            "\u001b[4A"
          ],
          "name": "stdout"
        }
      ]
    }
  ]
}
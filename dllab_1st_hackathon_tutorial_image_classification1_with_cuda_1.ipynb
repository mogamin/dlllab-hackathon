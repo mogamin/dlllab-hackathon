{
  "nbformat": 4,
  "nbformat_minor": 0,
  "metadata": {
    "colab": {
      "name": "dllab-1st-hackathon-tutorial-image-classification1-with-cuda-1",
      "version": "0.3.2",
      "provenance": [],
      "collapsed_sections": [],
      "include_colab_link": true
    },
    "kernelspec": {
      "name": "python3",
      "display_name": "Python 3"
    },
    "accelerator": "GPU"
  },
  "cells": [
    {
      "cell_type": "markdown",
      "metadata": {
        "id": "view-in-github",
        "colab_type": "text"
      },
      "source": [
        "[View in Colaboratory](https://colab.research.google.com/github/mogamin/dlllab-hackathon/blob/master/dllab_1st_hackathon_tutorial_image_classification1_with_cuda_1.ipynb)"
      ]
    },
    {
      "metadata": {
        "id": "_s3zhp5W5SQh",
        "colab_type": "code",
        "colab": {
          "base_uri": "https://localhost:8080/",
          "height": 189
        },
        "outputId": "aa1b37e5-8525-4a56-a251-22b8a1b0f3a0"
      },
      "cell_type": "code",
      "source": [
        "!apt-get install -y -qq libcusparse8.0 libnvrtc8.0 libnvtoolsext1\n",
        "!ln -snf /usr/lib/x86_64-linux-gnu/libnvrtc-builtins.so.8.0 /usr/lib/x86_64-linux-gnu/libnvrtc-builtins.so\n",
        "!pip install cupy-cuda80==4.0.0b4 \n",
        "!pip install chainer==4.0.0b4"
      ],
      "execution_count": 43,
      "outputs": [
        {
          "output_type": "stream",
          "text": [
            "Requirement already satisfied: cupy-cuda80==4.0.0b4 in /usr/local/lib/python3.6/dist-packages (4.0.0b4)\r\n",
            "Requirement already satisfied: fastrlock>=0.3 in /usr/local/lib/python3.6/dist-packages (from cupy-cuda80==4.0.0b4) (0.3)\r\n",
            "Requirement already satisfied: numpy>=1.9.0 in /usr/local/lib/python3.6/dist-packages (from cupy-cuda80==4.0.0b4) (1.14.5)\r\n",
            "Requirement already satisfied: six>=1.9.0 in /usr/local/lib/python3.6/dist-packages (from cupy-cuda80==4.0.0b4) (1.11.0)\n",
            "Requirement already satisfied: chainer==4.0.0b4 in /usr/local/lib/python3.6/dist-packages (4.0.0b4)\n",
            "Requirement already satisfied: protobuf>=3.0.0 in /usr/local/lib/python3.6/dist-packages (from chainer==4.0.0b4) (3.6.0)\n",
            "Requirement already satisfied: filelock in /usr/local/lib/python3.6/dist-packages (from chainer==4.0.0b4) (3.0.4)\n",
            "Requirement already satisfied: six>=1.9.0 in /usr/local/lib/python3.6/dist-packages (from chainer==4.0.0b4) (1.11.0)\n",
            "Requirement already satisfied: numpy>=1.9.0 in /usr/local/lib/python3.6/dist-packages (from chainer==4.0.0b4) (1.14.5)\n",
            "Requirement already satisfied: setuptools in /usr/local/lib/python3.6/dist-packages (from protobuf>=3.0.0->chainer==4.0.0b4) (39.1.0)\n"
          ],
          "name": "stdout"
        }
      ]
    },
    {
      "metadata": {
        "id": "lv6-BWw9_bbY",
        "colab_type": "code",
        "colab": {
          "base_uri": "https://localhost:8080/",
          "height": 52
        },
        "outputId": "62b3f3c0-1091-46db-b4ab-a19d19d0d790"
      },
      "cell_type": "code",
      "source": [
        "import chainer\n",
        "\n",
        "print('GPU availability:', chainer.cuda.available)\n",
        "print('cuDNN availablility:', chainer.cuda.cudnn_enabled)"
      ],
      "execution_count": 25,
      "outputs": [
        {
          "output_type": "stream",
          "text": [
            "GPU availability: True\n",
            "cuDNN availablility: True\n"
          ],
          "name": "stdout"
        }
      ]
    },
    {
      "metadata": {
        "id": "JRl0M_sxvetf",
        "colab_type": "code",
        "colab": {}
      },
      "cell_type": "code",
      "source": [
        "%matplotlib inline\n",
        "import numpy as np\n",
        "import pandas as pd\n",
        "import matplotlib.pyplot as plt"
      ],
      "execution_count": 0,
      "outputs": []
    },
    {
      "metadata": {
        "id": "MlGMQzKevr35",
        "colab_type": "code",
        "colab": {}
      },
      "cell_type": "code",
      "source": [
        "from chainer.datasets import get_mnist\n",
        "train, test = get_mnist(ndim=3) # ndim=3はcnn用のデータセット形式"
      ],
      "execution_count": 0,
      "outputs": []
    },
    {
      "metadata": {
        "id": "Wb8Mo_L-wJlQ",
        "colab_type": "code",
        "colab": {
          "base_uri": "https://localhost:8080/",
          "height": 52
        },
        "outputId": "252911d0-7a75-487c-eaf1-a25145d7ab76"
      },
      "cell_type": "code",
      "source": [
        "print(len(train))\n",
        "print(len(test))"
      ],
      "execution_count": 28,
      "outputs": [
        {
          "output_type": "stream",
          "text": [
            "60000\n",
            "10000\n"
          ],
          "name": "stdout"
        }
      ]
    },
    {
      "metadata": {
        "id": "46GAjhNCwxy0",
        "colab_type": "text"
      },
      "cell_type": "markdown",
      "source": [
        "> このchainerのデータセット形式はリストのような形式になっており、各サンプルに（画像、ラベル）のようにタプル形式で格納されています。\n",
        "\n",
        "* train[0]: １サンプル目の(画像、ラベル)が格納\n",
        "* train[0][0]: １サンプル目の画像（float32）\n",
        "* train[0][1]: １サンプル目のラベル（int32）\n",
        "\n"
      ]
    },
    {
      "metadata": {
        "id": "XfhCNqwwwWzP",
        "colab_type": "code",
        "colab": {
          "base_uri": "https://localhost:8080/",
          "height": 120
        },
        "outputId": "43143476-b2be-412b-9a3a-6e76b79651b1"
      },
      "cell_type": "code",
      "source": [
        "# image-data\n",
        "print(type(train[0][0]))\n",
        "print(train[0][0].shape)\n",
        "print(train[0][0].dtype)\n",
        "\n",
        "# image label\n",
        "print(type(train[0][1]))\n",
        "print(train[0][1].shape)\n",
        "print(train[0][1].dtype)"
      ],
      "execution_count": 29,
      "outputs": [
        {
          "output_type": "stream",
          "text": [
            "<class 'numpy.ndarray'>\n",
            "(1, 28, 28)\n",
            "float32\n",
            "<class 'numpy.int32'>\n",
            "()\n",
            "int32\n"
          ],
          "name": "stdout"
        }
      ]
    },
    {
      "metadata": {
        "id": "_GZa7CLrxtwT",
        "colab_type": "code",
        "colab": {
          "base_uri": "https://localhost:8080/",
          "height": 34
        },
        "outputId": "7b44f38e-3ea4-4241-accf-383b210ef67d"
      },
      "cell_type": "code",
      "source": [
        "# (channel,hight,width) -> (height,width,channel)\n",
        "img = np.transpose(train[0][0], (1,2,0))\n",
        "img.shape"
      ],
      "execution_count": 30,
      "outputs": [
        {
          "output_type": "execute_result",
          "data": {
            "text/plain": [
              "(28, 28, 1)"
            ]
          },
          "metadata": {
            "tags": []
          },
          "execution_count": 30
        }
      ]
    },
    {
      "metadata": {
        "id": "bqqmgRQnyEwX",
        "colab_type": "code",
        "colab": {
          "base_uri": "https://localhost:8080/",
          "height": 283
        },
        "outputId": "b1eb44b5-ab31-4905-8f95-45bc5a0ffefb"
      },
      "cell_type": "code",
      "source": [
        "plt.gray()\n",
        "plt.imshow(img.reshape(28,28))"
      ],
      "execution_count": 31,
      "outputs": [
        {
          "output_type": "execute_result",
          "data": {
            "text/plain": [
              "<matplotlib.image.AxesImage at 0x7f6486dd6c50>"
            ]
          },
          "metadata": {
            "tags": []
          },
          "execution_count": 31
        },
        {
          "output_type": "display_data",
          "data": {
            "image/png": "[encoded data removed]",
            "text/plain": [
              "<matplotlib.figure.Figure at 0x7f6486cfb320>"
            ]
          },
          "metadata": {
            "tags": []
          }
        }
      ]
    },
    {
      "metadata": {
        "id": "gL96IAkJyn7H",
        "colab_type": "code",
        "colab": {}
      },
      "cell_type": "code",
      "source": [
        "import chainer\n",
        "import chainer.links as L\n",
        "import chainer.functions as F"
      ],
      "execution_count": 0,
      "outputs": []
    },
    {
      "metadata": {
        "id": "KYWdCkk8yhqh",
        "colab_type": "code",
        "colab": {}
      },
      "cell_type": "code",
      "source": [
        "class CNN(chainer.Chain):\n",
        "  \n",
        "  def __init__(self, n_mid=100, n_out=10):\n",
        "    super().__init__()\n",
        "    with self.init_scope():\n",
        "      self.conv1 = L.Convolution2D(in_channels=1, out_channels=3, ksize=3, stride=1, pad=1)\n",
        "      self.fc1 = L.Linear(None, n_mid)\n",
        "      self.fc2 = L.Linear(None, n_out)\n",
        "  \n",
        "  def __call__(self, x):\n",
        "    h = F.relu(self.conv1(x))\n",
        "    h = F.max_pooling_2d(h, 3, 3)\n",
        "    h = self.fc1(h)\n",
        "    h = self.fc2(h)\n",
        "    return h"
      ],
      "execution_count": 0,
      "outputs": []
    },
    {
      "metadata": {
        "id": "WWhr0PKczVxh",
        "colab_type": "code",
        "colab": {}
      },
      "cell_type": "code",
      "source": [
        "import random\n",
        "def reset_seed(seed=0):\n",
        "  random.seed(seed)\n",
        "  np.random.seed(seed)\n",
        "  if chainer.cuda.available:\n",
        "    chainer.cuda.cupy.random.seed(seed)"
      ],
      "execution_count": 0,
      "outputs": []
    },
    {
      "metadata": {
        "id": "DX9pq3UMzmfh",
        "colab_type": "code",
        "colab": {
          "base_uri": "https://localhost:8080/",
          "height": 34
        },
        "outputId": "90d7c706-5dde-435e-a4a4-c0daa62e36f8"
      },
      "cell_type": "code",
      "source": [
        "reset_seed(0)\n",
        "model = L.Classifier(CNN())\n",
        "\n",
        "gpu_id = 0\n",
        "model.to_gpu(gpu_id)"
      ],
      "execution_count": 35,
      "outputs": [
        {
          "output_type": "execute_result",
          "data": {
            "text/plain": [
              "<chainer.links.model.classifier.Classifier at 0x7f6486dd2a58>"
            ]
          },
          "metadata": {
            "tags": []
          },
          "execution_count": 35
        }
      ]
    },
    {
      "metadata": {
        "id": "ggtqpQHVz3xp",
        "colab_type": "code",
        "colab": {
          "base_uri": "https://localhost:8080/",
          "height": 34
        },
        "outputId": "a265bfc7-25f8-4e18-a581-3045be3cec6b"
      },
      "cell_type": "code",
      "source": [
        "optimizer = chainer.optimizers.Adam()\n",
        "optimizer.setup(model)"
      ],
      "execution_count": 36,
      "outputs": [
        {
          "output_type": "execute_result",
          "data": {
            "text/plain": [
              "<chainer.optimizers.adam.Adam at 0x7f6486dd2400>"
            ]
          },
          "metadata": {
            "tags": []
          },
          "execution_count": 36
        }
      ]
    },
    {
      "metadata": {
        "id": "Wk7PMS7Dz-Hx",
        "colab_type": "code",
        "colab": {}
      },
      "cell_type": "code",
      "source": [
        "batchsize = 4096\n",
        "train_iter = chainer.iterators.SerialIterator(train, batchsize)\n",
        "test_iter = chainer.iterators.SerialIterator(test, batchsize, repeat=False, shuffle=False)"
      ],
      "execution_count": 0,
      "outputs": []
    },
    {
      "metadata": {
        "id": "WluL3nt40JxS",
        "colab_type": "code",
        "colab": {
          "base_uri": "https://localhost:8080/",
          "height": 551
        },
        "outputId": "db896660-eca2-4213-8a8c-c79383f4072f"
      },
      "cell_type": "code",
      "source": [
        "from chainer import training\n",
        "from chainer.training import extensions\n",
        "\n",
        "epoch = 30\n",
        "updater = training.StandardUpdater(train_iter,optimizer,device=gpu_id)\n",
        "trainer = training.Trainer(updater, (epoch, 'epoch'), out='mnist')\n",
        "\n",
        "trainer.extend(extensions.Evaluator(test_iter,model,device=gpu_id))\n",
        "trainer.extend(extensions.LogReport(trigger=(1,'epoch')))\n",
        "trainer.extend(extensions.PrintReport(['epoch','main/accuracy','validation/main/accuracy','main/loss','validation/main/loss','elapsed_time']),trigger=(1,'epoch'))\n",
        "trainer.run()"
      ],
      "execution_count": 38,
      "outputs": [
        {
          "output_type": "stream",
          "text": [
            "epoch       main/accuracy  validation/main/accuracy  main/loss   validation/main/loss  elapsed_time\n",
            "\u001b[J1           0.39738        0.722084                  1.92332     1.32812               0.695213      \n",
            "\u001b[J2           0.762435       0.823388                  1.05503     0.766939              1.25484       \n",
            "\u001b[J3           0.829136       0.862845                  0.68892     0.55474               1.77748       \n",
            "\u001b[J4           0.857129       0.881255                  0.534908    0.450401              2.33803       \n",
            "\u001b[J5           0.87321        0.89231                   0.453907    0.394012              2.89616       \n",
            "\u001b[J6           0.882795       0.898857                  0.408648    0.359427              3.42391       \n",
            "\u001b[J7           0.890365       0.903767                  0.377311    0.333144              3.98322       \n",
            "\u001b[J8           0.89611        0.909576                  0.355105    0.31362               4.54187       \n",
            "\u001b[J9           0.901193       0.914464                  0.334722    0.299507              5.06723       \n",
            "\u001b[J10          0.904818       0.91677                   0.321583    0.285927              5.628         \n",
            "\u001b[J11          0.908154       0.919726                  0.309958    0.275714              6.18753       \n",
            "\u001b[J12          0.911237       0.920475                  0.299448    0.2682                6.72007       \n",
            "\u001b[J13          0.913818       0.923372                  0.291328    0.260942              7.27732       \n",
            "\u001b[J14          0.916032       0.924272                  0.283568    0.253261              7.83501       \n",
            "\u001b[J15          0.917951       0.926838                  0.276824    0.248627              8.35925       \n",
            "\u001b[J16          0.919873       0.927977                  0.271167    0.244599              8.92083       \n",
            "\u001b[J17          0.922152       0.928671                  0.264995    0.239212              9.48064       \n",
            "\u001b[J18          0.922433       0.929892                  0.261974    0.237447              10.0076       \n",
            "\u001b[J19          0.923324       0.9305                    0.257821    0.23383               10.5684       \n",
            "\u001b[J20          0.925537       0.933526                  0.251862    0.227571              11.0977       \n",
            "\u001b[J21          0.925667       0.934893                  0.250449    0.224695              11.6562       \n",
            "\u001b[J22          0.927686       0.934524                  0.244094    0.221541              12.2143       \n",
            "\u001b[J23          0.928258       0.93383                   0.242833    0.220159              12.7363       \n",
            "\u001b[J24          0.929085       0.935685                  0.238404    0.217075              13.2927       \n",
            "\u001b[J25          0.929736       0.937746                  0.236777    0.216036              13.8503       \n",
            "\u001b[J26          0.930211       0.937009                  0.235964    0.214697              14.3768       \n",
            "\u001b[J27          0.930827       0.938728                  0.233676    0.212282              14.9364       \n",
            "\u001b[J28          0.931657       0.93913                   0.230027    0.209266              15.5062       \n",
            "\u001b[J29          0.932164       0.938072                  0.229185    0.207608              16.0315       \n",
            "\u001b[J30          0.933268       0.938783                  0.225671    0.207053              16.5911       \n"
          ],
          "name": "stdout"
        }
      ]
    },
    {
      "metadata": {
        "id": "iFP9YlFL26lT",
        "colab_type": "code",
        "colab": {
          "base_uri": "https://localhost:8080/",
          "height": 533
        },
        "outputId": "5751df02-405b-41e8-80f8-79ced4e65cda"
      },
      "cell_type": "code",
      "source": [
        "import json\n",
        "import pandas as pd\n",
        "\n",
        "with open('mnist/log') as f:\n",
        "  result = pd.DataFrame(json.load(f))\n",
        "\n",
        "result[['main/accuracy','validation/main/accuracy']].plot()\n",
        "result[['main/loss','validation/main/loss']].plot()"
      ],
      "execution_count": 39,
      "outputs": [
        {
          "output_type": "execute_result",
          "data": {
            "text/plain": [
              "<matplotlib.axes._subplots.AxesSubplot at 0x7f648793d8d0>"
            ]
          },
          "metadata": {
            "tags": []
          },
          "execution_count": 39
        },
        {
          "output_type": "display_data",
          "data": {
            "image/png": "[encoded data removed]",
            "text/plain": [
              "<matplotlib.figure.Figure at 0x7f649d142160>"
            ]
          },
          "metadata": {
            "tags": []
          }
        },
        {
          "output_type": "display_data",
          "data": {
            "image/png": "[encoded data removed]",
            "text/plain": [
              "<matplotlib.figure.Figure at 0x7f6487987518>"
            ]
          },
          "metadata": {
            "tags": []
          }
        }
      ]
    },
    {
      "metadata": {
        "id": "m7ylvkro3UA3",
        "colab_type": "code",
        "colab": {
          "base_uri": "https://localhost:8080/",
          "height": 34
        },
        "outputId": "f1d9bb93-8c56-4c20-90a8-a07cc4382a0f"
      },
      "cell_type": "code",
      "source": [
        "# モデルをCPUに転送\n",
        "model.to_cpu()"
      ],
      "execution_count": 40,
      "outputs": [
        {
          "output_type": "execute_result",
          "data": {
            "text/plain": [
              "<chainer.links.model.classifier.Classifier at 0x7f6486dd2a58>"
            ]
          },
          "metadata": {
            "tags": []
          },
          "execution_count": 40
        }
      ]
    },
    {
      "metadata": {
        "id": "qNiYY1Hz4LSY",
        "colab_type": "code",
        "colab": {}
      },
      "cell_type": "code",
      "source": [
        "chainer.serializers.save_npz('model_mnist.npz',model)"
      ],
      "execution_count": 0,
      "outputs": []
    },
    {
      "metadata": {
        "id": "LHxU1nkI4PZ5",
        "colab_type": "code",
        "colab": {
          "base_uri": "https://localhost:8080/",
          "height": 278
        },
        "outputId": "e245bb98-6b52-4f43-abd9-cd5cc5bae739"
      },
      "cell_type": "code",
      "source": [
        "!ls -l\n",
        "!head model_mnist.npz"
      ],
      "execution_count": 42,
      "outputs": [
        {
          "output_type": "stream",
          "text": [
            "total 124\r\n",
            "drwxr-xr-x 3 root root   4096 Aug  1 18:45 datalab\r\n",
            "drwxr-xr-x 2 root root   4096 Aug  3 04:16 mnist\r\n",
            "-rw-r--r-- 1 root root 116929 Aug  3 04:16 model_mnist.npz\n",
            "�<�y\u000ek��\u0005�\u0004i��j���Z��Z[\u0003�B���x\u0005\u0004�����\u001a���~S��۽\u0003��޵�\u0017/�U5X�x���Q���#j����\u0015\u001b��>��o�2\u001e��\u0011�\u0006�>=F��1�ۺ�I�g��E�I���-�~�Z \u0003.ѧ��1\u0019~p\u0005ѼU\u0010�$�1\\�S�>B�\fX:\u0010'*\u000f�� ʦ�\u0004��,xe\"C\u000bKk��n/t1�4Od\u0019�o؈��%�K�#�]�Aga\u0006�Z�\u0013\u0017�mh�Ƃɼ\u001bF\u0005����-b�H\u0001V��S�A�\u0000F���h�>˿v\u0011�K<��;\u0004p��4`�L5ܸt�>�<I�\u0005}'ߏ\u0015▌0�Z^C\u0017�O��Ę�vw3|�>\u0003&6��m��K����L\u0018Hu$��I�Mѐ�\u0014�@��\n",
            "��\u001f���M\n",
            "$�h�i��&�*\u001cn�\"��\u0005P\u001c�\n",
            "�\u000b��k�lx8[\n",
            "mL\u001a�G\\�?�[��t2��[F$\u0016ԓ��x�\u001e=�7Z��]�c�sl\u0011c�!\u0003el/h�2Î\u0002G2�Q\n",
            "\u0013�D�^\b�\u0012 $_\u0011^ϔ�->}Pt-\u001et�'���]�z�n��2G��ߤ)�\u001c\u001d�����<4�y��#�I޺��/�,�B[��ލ�Ɨ\u001b1�\u001f\u000f��%�\u0016���\u000b���7m!3���9w;\u0010\u000f:�Ӹ���9|��:�\n",
            "GjD\u0019�bq�GP��:�\fߟ{2\u0003�\u0004\u001aL�Ѣ��\u0010��\u00031�\n",
            "��<r\u0012|w���&h�\u000f��\u0015�\u0005�����RX'���n\u0018Q~�|�/,�xL��Z+!�5=G~u�f�\u0015����(`�����.U4\u001c�9z����p8��\u0003�ߟ�W�Ɖnm \u001d�֤|_�Pb\"�s�;���� ���yf\\\u000b\u001b�-`\u0016ʮ�i�/��!K� \u0012�CѼ1�\u0006�\u001a��\u0005�\u001e�B}U\u0011Ǣ�\u001e��Z��ꋔݱ\u0004�%���׋pu �f�\u0016b��,���RػM�ʇ\u001c���\u0011� @��\u0010�\n",
            "�.x\u001f3\b�`\u0013^w����2|�]\u0014��.ǍjV�q�=�h܈�xӰ�� �N�I5��HO�\u0012ҩ\u001fLdN��[��Q�5n��\t��\u0005��\u0001\u001bs�\u0000���!s͈p�.\u0018Y�\u000e�\u000b�1����Ia\u0006\u0016<:���$��j��]U\u0018�\u001d�a�V\u0018^z���8$Ø�\u0004m����\u0017�X�uČC�tӭ;\u0010{d1ި����l2=m.i��Ɯ�^�{\u001c�鲆��G &G\f\u0013�T���|�;.�\fZ��wo2��:�r�\u0004٢� o�8�l�#�\u001f�\u000b\u0015ɩ8hn\t\u0005�Ah�k+n��c�\u0018���\n",
            "OKk!GC��פ̸�凨�}PV6�9���sh7gt�\u0015�M�\u0000��O�9��\u0016�\u0017b�\fG@Ħ\u000eӝ�b��\f����O�lXü[���\u0003l\u0012�\u001e->���]X��w����\t{7F\u0001wx��lYL�jEǇ���y3�]\u0005$����UV�^M��N���\u0015ǡ�|?�߯���\b�Z�\tP�l\n"
          ],
          "name": "stdout"
        }
      ]
    },
    {
      "metadata": {
        "id": "k1Sbln9J4WMt",
        "colab_type": "code",
        "colab": {}
      },
      "cell_type": "code",
      "source": [
        ""
      ],
      "execution_count": 0,
      "outputs": []
    }
  ]
}
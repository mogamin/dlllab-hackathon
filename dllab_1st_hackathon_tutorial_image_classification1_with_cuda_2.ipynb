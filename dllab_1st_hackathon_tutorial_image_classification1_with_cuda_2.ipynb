{
  "nbformat": 4,
  "nbformat_minor": 0,
  "metadata": {
    "colab": {
      "name": "dllab-1st-hackathon-tutorial-image-classification1-with-cuda-2",
      "version": "0.3.2",
      "provenance": [],
      "include_colab_link": true
    },
    "kernelspec": {
      "name": "python3",
      "display_name": "Python 3"
    },
    "accelerator": "GPU"
  },
  "cells": [
    {
      "cell_type": "markdown",
      "metadata": {
        "id": "view-in-github",
        "colab_type": "text"
      },
      "source": [
        "[View in Colaboratory](https://colab.research.google.com/github/mogamin/dlllab-hackathon/blob/master/dllab_1st_hackathon_tutorial_image_classification1_with_cuda_2.ipynb)"
      ]
    },
    {
      "metadata": {
        "id": "LWrZ4tfNAchy",
        "colab_type": "code",
        "colab": {
          "base_uri": "https://localhost:8080/",
          "height": 86
        },
        "outputId": "71fc4c71-13f9-4e10-a81c-e6d6e5f27e96"
      },
      "cell_type": "code",
      "source": [
        "!ls -l"
      ],
      "execution_count": 76,
      "outputs": [
        {
          "output_type": "stream",
          "text": [
            "total 124\r\n",
            "drwxr-xr-x 3 root root   4096 Aug  1 18:45 datalab\r\n",
            "drwxr-xr-x 2 root root   4096 Aug  3 04:16 mnist\r\n",
            "-rw-r--r-- 1 root root 116929 Aug  3 04:16 model_mnist.npz\r\n"
          ],
          "name": "stdout"
        }
      ]
    },
    {
      "metadata": {
        "id": "yp6JPGbPAjwr",
        "colab_type": "code",
        "colab": {}
      },
      "cell_type": "code",
      "source": [
        "import chainer\n",
        "import chainer.links as L\n",
        "import chainer.functions as F"
      ],
      "execution_count": 0,
      "outputs": []
    },
    {
      "metadata": {
        "id": "q6HsZUorAm77",
        "colab_type": "code",
        "colab": {}
      },
      "cell_type": "code",
      "source": [
        "class CNN(chainer.Chain):\n",
        "  \n",
        "  def __init__(self, n_mid=100, n_out=10):\n",
        "    super().__init__()\n",
        "    with self.init_scope():\n",
        "      self.conv1 = L.Convolution2D(in_channels=1, out_channels=3, ksize=3, stride=1, pad=1)\n",
        "      self.fc1 = L.Linear(None, n_mid)\n",
        "      self.fc2 = L.Linear(None, n_out)\n",
        "  \n",
        "  def __call__(self, x):\n",
        "    h = F.relu(self.conv1(x))\n",
        "    h = F.max_pooling_2d(h, 3, 3)\n",
        "    h = self.fc1(h)\n",
        "    h = self.fc2(h)\n",
        "    return h"
      ],
      "execution_count": 0,
      "outputs": []
    },
    {
      "metadata": {
        "id": "MIN4-YOrAsL8",
        "colab_type": "code",
        "colab": {}
      },
      "cell_type": "code",
      "source": [
        "# dllab-1st-hackathon-tutorial-image-classification1-with-cuda-1 で生成したモデルをロードする\n",
        "model = L.Classifier(CNN())\n",
        "chainer.serializers.load_npz('model_mnist.npz',model)"
      ],
      "execution_count": 0,
      "outputs": []
    },
    {
      "metadata": {
        "id": "XIRQuKw8A8JU",
        "colab_type": "code",
        "colab": {}
      },
      "cell_type": "code",
      "source": [
        "from chainer.datasets import get_mnist\n",
        "train, test = get_mnist(ndim=3) "
      ],
      "execution_count": 0,
      "outputs": []
    },
    {
      "metadata": {
        "id": "Lj8XCW7LBP12",
        "colab_type": "code",
        "colab": {
          "base_uri": "https://localhost:8080/",
          "height": 381
        },
        "outputId": "7ac9b735-d91e-43a4-b51e-4a8f0ac19bfc"
      },
      "cell_type": "code",
      "source": [
        "import matplotlib.pyplot as plt\n",
        "x ,t = train[0]\n",
        "print(x.shape)\n",
        "plt.gray()\n",
        "plt.imshow(x.reshape(28,28))\n",
        "print(t)\n"
      ],
      "execution_count": 112,
      "outputs": [
        {
          "output_type": "stream",
          "text": [
            "(1, 28, 28)\n",
            "5\n"
          ],
          "name": "stdout"
        },
        {
          "output_type": "display_data",
          "data": {
            "image/png": "[encoded data removed]",
            "text/plain": [
              "<matplotlib.figure.Figure at 0x7f33cd67f2e8>"
            ]
          },
          "metadata": {
            "tags": []
          }
        }
      ]
    },
    {
      "metadata": {
        "id": "0aHKPfobB3gg",
        "colab_type": "code",
        "colab": {
          "base_uri": "https://localhost:8080/",
          "height": 52
        },
        "outputId": "2ba19985-ba54-42d0-d09f-a9e79bc2ad22"
      },
      "cell_type": "code",
      "source": [
        "import numpy as np\n",
        "y = model.predictor(np.array([x],'f'))\n",
        "print(y)"
      ],
      "execution_count": 113,
      "outputs": [
        {
          "output_type": "stream",
          "text": [
            "variable([[-0.9750328  -2.118344    1.1636071   5.189813   -3.5865119\n",
            "            6.627645   -5.6441708   2.7316294  -1.8899047  -0.28336507]])\n"
          ],
          "name": "stdout"
        }
      ]
    },
    {
      "metadata": {
        "id": "YQAX2205CPkq",
        "colab_type": "code",
        "colab": {
          "base_uri": "https://localhost:8080/",
          "height": 69
        },
        "outputId": "dfe6a0a0-a7c4-4baa-db11-e77b0d30286f"
      },
      "cell_type": "code",
      "source": [
        "y_softmax = F.softmax(y)\n",
        "print(y_softmax)"
      ],
      "execution_count": 114,
      "outputs": [
        {
          "output_type": "stream",
          "text": [
            "variable([[3.9490007e-04 1.2587907e-04 3.3518665e-03 1.8786494e-01\n",
            "           2.8995870e-05 7.9120350e-01 3.7042998e-06 1.6079411e-02\n",
            "           1.5818432e-04 7.8863237e-04]])\n"
          ],
          "name": "stdout"
        }
      ]
    },
    {
      "metadata": {
        "id": "_k6cKxUjCY7Y",
        "colab_type": "code",
        "colab": {
          "base_uri": "https://localhost:8080/",
          "height": 34
        },
        "outputId": "d60254ab-296f-4f6e-8588-abae1c748467"
      },
      "cell_type": "code",
      "source": [
        "# softmaxすると総和は1となる\n",
        "print(np.sum(y_softmax))"
      ],
      "execution_count": 115,
      "outputs": [
        {
          "output_type": "stream",
          "text": [
            "variable(1.0000001)\n"
          ],
          "name": "stdout"
        }
      ]
    },
    {
      "metadata": {
        "id": "2RUDJHH1Ck51",
        "colab_type": "code",
        "colab": {
          "base_uri": "https://localhost:8080/",
          "height": 52
        },
        "outputId": "ef5bf70b-6b5a-4764-9931-fe6a7d936f1f"
      },
      "cell_type": "code",
      "source": [
        "# type transform chainer > numpy\n",
        "y_numpy_array = y.array\n",
        "print(type(y_numpy_array))\n",
        "np.argmax(y_numpy_array, axis=1)"
      ],
      "execution_count": 116,
      "outputs": [
        {
          "output_type": "stream",
          "text": [
            "<class 'numpy.ndarray'>\n"
          ],
          "name": "stdout"
        },
        {
          "output_type": "execute_result",
          "data": {
            "text/plain": [
              "array([5])"
            ]
          },
          "metadata": {
            "tags": []
          },
          "execution_count": 116
        }
      ]
    },
    {
      "metadata": {
        "id": "wkX387a0LKEp",
        "colab_type": "code",
        "colab": {
          "base_uri": "https://localhost:8080/",
          "height": 414
        },
        "outputId": "41b15ed1-47b7-4b4a-89a6-b8e93ee8b375"
      },
      "cell_type": "code",
      "source": [
        "fig = plt.figure()\n",
        "fig.subplots_adjust(left=0, right=1, bottom=0, top=1, hspace=0.05, wspace=0.05)\n",
        "for i in range(50):\n",
        "    x ,t = train[i]\n",
        "    ax = fig.add_subplot(5, 10, i + 1, xticks=[], yticks=[])\n",
        "    ax.imshow(x.reshape(28,28))\n",
        "    \n",
        "    # predict\n",
        "    y = model.predictor(np.array([x],'f'))\n",
        "    y = F.softmax(y)\n",
        "    p = np.argmax(y.array, axis=1)\n",
        "    \n",
        "    ax.annotate('t='+str(t)+',p='+str(p), xy=(0, 0))\n",
        "plt.show()\n"
      ],
      "execution_count": 161,
      "outputs": [
        {
          "output_type": "display_data",
          "data": {
            "image/png": "[encoded data removed]",
            "text/plain": [
              "<matplotlib.figure.Figure at 0x7f33cd715f28>"
            ]
          },
          "metadata": {
            "tags": []
          }
        }
      ]
    },
    {
      "metadata": {
        "id": "n89h22eyPbmY",
        "colab_type": "code",
        "colab": {
          "base_uri": "https://localhost:8080/",
          "height": 344
        },
        "outputId": "e271c0ed-8b9e-446f-a602-750cf58f1b3c"
      },
      "cell_type": "code",
      "source": [
        "# 学習済みモデルで得られたフィルタの値を取得し、各画像に対して畳み込み（Convolution）を実行し、\n",
        "# 数字をうまく分類できるようなフィルタはどのような画像になっているか確かめてみましょう。\n",
        "W = model.predictor.conv1.W\n",
        "print(W.shape)\n",
        "print(W)\n",
        "print(type(W))\n",
        "\n",
        "W = model.predictor.conv1.W.array # transform chainer variable -> numpy array\n",
        "n1, n2, h, w = W.shape\n",
        "fig = plt.figure()\n",
        "fig.subplots_adjust(left=0, right=1, bottom=0, top=1, hspace=0.05, wspace=0.05)\n",
        "for i in range(n1):\n",
        "    ax = fig.add_subplot(2, 10, i + 1, xticks=[], yticks=[])\n",
        "    ax.imshow(W[i, 0], cmap=plt.cm.gray_r, interpolation='nearest' )\n",
        "plt.show()\n",
        "\n"
      ],
      "execution_count": 179,
      "outputs": [
        {
          "output_type": "stream",
          "text": [
            "(3, 1, 3, 3)\n",
            "variable W([[[[ 0.660964    0.22830191  0.43892464]\n",
            "              [ 0.8393281   0.7049065  -0.2604262 ]\n",
            "              [ 0.38153538 -0.02140122 -0.03442039]]]\n",
            "\n",
            "\n",
            "            [[[ 0.19543864  0.13768171  0.5967659 ]\n",
            "              [ 0.339504    0.13698143  0.26630974]\n",
            "              [ 0.22032122  0.622418    0.09039367]]]\n",
            "\n",
            "\n",
            "            [[[ 0.32213578 -0.13657586 -1.1218135 ]\n",
            "              [ 0.4198423   0.40670893 -0.5395166 ]\n",
            "              [ 0.9158305  -0.29736233 -0.00725759]]]])\n",
            "<class 'chainer.variable.Parameter'>\n"
          ],
          "name": "stdout"
        },
        {
          "output_type": "display_data",
          "data": {
            "image/png": "[encoded data removed]",
            "text/plain": [
              "<matplotlib.figure.Figure at 0x7f33cc245748>"
            ]
          },
          "metadata": {
            "tags": []
          }
        }
      ]
    },
    {
      "metadata": {
        "id": "N8VUdfXCWsOL",
        "colab_type": "text"
      },
      "cell_type": "markdown",
      "source": [
        "![代替テキスト](http://cdn-ak.f.st-hatena.com/images/fotolife/a/aidiary/20150626/20150626203849.png)"
      ]
    }
  ]
}